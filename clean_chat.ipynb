{
 "cells": [
  {
   "cell_type": "code",
   "execution_count": 1,
   "metadata": {},
   "outputs": [
    {
     "name": "stdout",
     "output_type": "stream",
     "text": [
      "Loaded 3253 prompts\n",
      "Loaded 647 search infos\n"
     ]
    }
   ],
   "source": [
    "# Prepare Chat Completion Dataset for SFT & DFT experiment\n",
    "data_path = \"database/chat/corpora.json\"\n",
    "import json\n",
    "from datasets import Dataset\n",
    "import datasets\n",
    "from src.dataset.feedback_utils_v2 import Feedback\n",
    "from src.dataset.format_v2 import to_distill_sft, clean_chat_copora\n",
    "feedback = Feedback(content = \"Role play as a philippine customer, chatting with FWD insurance agent\")\n",
    "\n",
    "dataset = to_distill_sft(feedback)"
   ]
  },
  {
   "cell_type": "code",
   "execution_count": 3,
   "metadata": {},
   "outputs": [],
   "source": [
    "# Self-Distillation FineTuning Model\n",
    "from peft import PeftModel, PeftConfig\n",
    "from transformers import AutoModelForCausalLM, AutoTokenizer\n",
    "\n",
    "# config = PeftConfig.from_pretrained(\"Ksgk-fy/feedback-adaptor-dft_1\")\n",
    "base_model_id = \"meta-llama/Meta-Llama-3-8B-Instruct\"\n",
    "\n",
    "base_model = AutoModelForCausalLM.from_pretrained(base_model_id)\n",
    "tokenizer = AutoTokenizer.from_pretrained(base_model_id)\n",
    "\n",
    "if \"Meta-Llama-3-\" in base_model_id:\n",
    "    tokenizer.add_special_tokens({'pad_token': '[PAD]'})\n",
    "    base_model.resize_token_embeddings(len(tokenizer))\n",
    "else:\n",
    "    tokenizer.pad_token = tokenizer.unk_token\n",
    "    \n",
    "model = PeftModel.from_pretrained(base_model, \"Ksgk-fy/feedback-adaptor-dft_1\")"
   ]
  },
  {
   "cell_type": "code",
   "execution_count": null,
   "metadata": {},
   "outputs": [],
   "source": [
    "from peft import PeftConfig, PeftModel\n",
    "from transformers import AutoModelForCausalLM, AutoTokenizer\n",
    "\n",
    "adaptor_id = \"Ksgk-fy/feedback-adaptor-dft\"\n",
    "config = PeftConfig.from_pretrained(adaptor_id)\n",
    "model = AutoModelForCausalLM.from_pretrained(config.base_model_name_or_path, load_in_4bit=True, device_map=\"auto\").eval()\n",
    "tokenizer = AutoTokenizer.from_pretrained(config.base_model_name_or_path)\n",
    "model = PeftModel.from_pretrained(model, adaptor_id, adapter_name=\"feedback-adaptor-dft\")"
   ]
  }
 ],
 "metadata": {
  "kernelspec": {
   "display_name": "base",
   "language": "python",
   "name": "python3"
  },
  "language_info": {
   "codemirror_mode": {
    "name": "ipython",
    "version": 3
   },
   "file_extension": ".py",
   "mimetype": "text/x-python",
   "name": "python",
   "nbconvert_exporter": "python",
   "pygments_lexer": "ipython3",
   "version": "3.11.5"
  }
 },
 "nbformat": 4,
 "nbformat_minor": 2
}
