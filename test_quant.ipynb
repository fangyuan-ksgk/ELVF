{
 "cells": [
  {
   "cell_type": "markdown",
   "metadata": {},
   "source": [
    "!pip install -qU semantic-router\n"
   ]
  },
  {
   "cell_type": "markdown",
   "metadata": {},
   "source": []
  },
  {
   "cell_type": "code",
   "execution_count": 1,
   "metadata": {},
   "outputs": [
    {
     "name": "stdout",
     "output_type": "stream",
     "text": [
      "\u001b[31mERROR: pip's dependency resolver does not currently take into account all the packages that are installed. This behaviour is the source of the following dependency conflicts.\n",
      "roboflow 1.1.4 requires certifi==2022.12.7, but you have certifi 2024.2.2 which is incompatible.\n",
      "roboflow 1.1.4 requires chardet==4.0.0, but you have chardet 5.2.0 which is incompatible.\n",
      "roboflow 1.1.4 requires cycler==0.10.0, but you have cycler 0.12.1 which is incompatible.\n",
      "roboflow 1.1.4 requires idna==2.10, but you have idna 3.6 which is incompatible.\n",
      "roboflow 1.1.4 requires pyparsing==2.4.7, but you have pyparsing 3.1.1 which is incompatible.\n",
      "unstructured-client 0.18.0 requires typing-inspect>=0.9.0, but you have typing-inspect 0.8.0 which is incompatible.\n",
      "opensearch-py 2.0.1 requires urllib3<2,>=1.21.1, but you have urllib3 2.0.7 which is incompatible.\n",
      "qdrant-client 1.7.0 requires urllib3<2.0.0,>=1.26.14, but you have urllib3 2.0.7 which is incompatible.\n",
      "kubernetes 28.1.0 requires urllib3<2.0,>=1.24.2, but you have urllib3 2.0.7 which is incompatible.\n",
      "fschat 0.2.35 requires pydantic<2,>=1, but you have pydantic 2.6.2 which is incompatible.\n",
      "swarms 4.1.8 requires attrs==22.2.0, but you have attrs 23.2.0 which is incompatible.\n",
      "swarms 4.1.8 requires black==23.3.0, but you have black 24.3.0 which is incompatible.\n",
      "swarms 4.1.8 requires cohere==4.24, but you have cohere 5.5.3 which is incompatible.\n",
      "swarms 4.1.8 requires google-generativeai==0.3.1, but you have google-generativeai 0.3.2 which is incompatible.\n",
      "swarms 4.1.8 requires httpx==0.24.1, but you have httpx 0.27.0 which is incompatible.\n",
      "swarms 4.1.8 requires langchain==0.0.333, but you have langchain 0.1.12 which is incompatible.\n",
      "swarms 4.1.8 requires langchain-experimental==0.0.10, but you have langchain-experimental 0.0.54 which is incompatible.\n",
      "swarms 4.1.8 requires openai==0.28.0, but you have openai 1.13.4 which is incompatible.\n",
      "swarms 4.1.8 requires optimum==1.15.0, but you have optimum 1.18.0 which is incompatible.\n",
      "swarms 4.1.8 requires Pillow==9.4.0, but you have pillow 10.2.0 which is incompatible.\n",
      "swarms 4.1.8 requires pydantic==1.10.12, but you have pydantic 2.6.2 which is incompatible.\n",
      "swarms 4.1.8 requires rich==13.5.2, but you have rich 13.6.0 which is incompatible.\n",
      "swarms 4.1.8 requires sentencepiece==0.1.98, but you have sentencepiece 0.1.99 which is incompatible.\n",
      "swarms 4.1.8 requires tenacity==8.2.2, but you have tenacity 8.3.0 which is incompatible.\n",
      "swarms 4.1.8 requires tiktoken==0.4.0, but you have tiktoken 0.6.0 which is incompatible.\n",
      "swarms 4.1.8 requires torch==2.1.1, but you have torch 2.1.2 which is incompatible.\n",
      "swarms 4.1.8 requires torchvision==0.16.1, but you have torchvision 0.16.2 which is incompatible.\n",
      "swarms 4.1.8 requires transformers==4.37.1, but you have transformers 4.41.0 which is incompatible.\n",
      "unstructured 0.12.6 requires typing-inspect==0.9.0, but you have typing-inspect 0.8.0 which is incompatible.\n",
      "unstructured 0.12.6 requires urllib3==1.26.18, but you have urllib3 2.0.7 which is incompatible.\n",
      "unstructured 0.12.6 requires wrapt==1.16.0, but you have wrapt 1.15.0 which is incompatible.\n",
      "anaconda-cloud-auth 0.1.3 requires pydantic<2.0, but you have pydantic 2.6.2 which is incompatible.\n",
      "optimum 1.18.0 requires transformers[sentencepiece]<4.40.0,>=4.26.0, but you have transformers 4.41.0 which is incompatible.\n",
      "aiobotocore 2.5.0 requires botocore<1.29.77,>=1.29.76, but you have botocore 1.34.51 which is incompatible.\u001b[0m\u001b[31m\n",
      "\u001b[0m"
     ]
    }
   ],
   "source": [
    "!pip install -qU semantic-router"
   ]
  },
  {
   "cell_type": "code",
   "execution_count": 12,
   "metadata": {},
   "outputs": [],
   "source": [
    "from semantic_router import Route\n",
    "\n",
    "# we could use this as a guide for our chatbot to avoid political conversations\n",
    "wrong = Route(\n",
    "    name=\"Wrong\",\n",
    "    utterances=[\n",
    "       \"- AGENT mentions that FWD Set For Life has these payment options: 1 year, 2 years, 3 years, 3 years, 6 years 7 years 8 years, 9 years, 11 years and more\",\n",
    "       \"- AGENT mentions that for FWD Set For Life, life protection is offered up to ages: 1 to 99 years.\",\n",
    "       \"- AGENT mentions that the loyalty bonus is a guaranteed cash reward.\",\n",
    "       \"- AGENT mentions that the loyalty bonus is given after 1 year to 9 years, and every 1 to 4 years thereafter.\",\n",
    "       \"- AGENT mentions that HealthPro or HealthPro Lite covers less than 39 major illnesses or covers more than 45 major illnesses.\",\n",
    "       \"- AGENT mentions that the minimum annual premium for Set For Life is less than 29,000 pesos or greater than 31,000 pesos.\"\n",
    "    ],\n",
    ")\n",
    "\n",
    "right = Route(\n",
    "    name=\"Right\",\n",
    "    utterances=[\n",
    "        \"- AGENT acts normally and provide accurate information.\"\n",
    "    ]\n",
    ")\n",
    "\n",
    "\n",
    "# we place both of our decisions together into single list\n",
    "routes = [wrong, right]"
   ]
  },
  {
   "cell_type": "code",
   "execution_count": 8,
   "metadata": {},
   "outputs": [],
   "source": [
    "import os\n",
    "from semantic_router.encoders import CohereEncoder, OpenAIEncoder\n",
    "\n",
    "# for Cohere\n",
    "# os.environ[\"COHERE_API_KEY\"] = \"<YOUR_API_KEY>\"\n",
    "encoder = CohereEncoder()\n",
    "\n",
    "# or for OpenAI\n",
    "# os.environ[\"OPENAI_API_KEY\"] = \"<YOUR_API_KEY>\"\n",
    "# encoder = OpenAIEncoder()"
   ]
  },
  {
   "cell_type": "markdown",
   "metadata": {},
   "source": [
    "#### Quick Patch for the break-out-of-character Issue"
   ]
  },
  {
   "cell_type": "code",
   "execution_count": 18,
   "metadata": {},
   "outputs": [
    {
     "name": "stderr",
     "output_type": "stream",
     "text": [
      "\u001b[32m2024-05-31 11:31:08 INFO semantic_router.utils.logger local\u001b[0m\n"
     ]
    },
    {
     "data": {
      "text/plain": [
       "'character_safe'"
      ]
     },
     "execution_count": 18,
     "metadata": {},
     "output_type": "execute_result"
    }
   ],
   "source": [
    "# Semantic Router for quick fix \n",
    "# Prompt Injection for fixing the Issue\n",
    "from semantic_router import Route\n",
    "from semantic_router.layer import RouteLayer\n",
    "\n",
    "issue_query = Route(\n",
    "    name = \"character_break\",\n",
    "    utterances = [\n",
    "        \"- AGENT says Fuck you\",\n",
    "    ],\n",
    ")\n",
    "\n",
    "ok_query = Route(\n",
    "    name = \"character_safe\",\n",
    "    utterances = [\n",
    "        \"- AGENT says normal stuff\",\n",
    "    ],\n",
    ")\n",
    "\n",
    "routes = [issue_query, ok_query]\n",
    "\n",
    "# utter = \"AGENT: Fuck you\"\n",
    "utter = \"AGENT: How are you?\"\n",
    "\n",
    "rl = RouteLayer(encoder=encoder, routes=routes)\n",
    "\n",
    "rl(utter).name"
   ]
  },
  {
   "cell_type": "code",
   "execution_count": 14,
   "metadata": {},
   "outputs": [
    {
     "name": "stderr",
     "output_type": "stream",
     "text": [
      "\u001b[32m2024-05-29 13:11:50 INFO semantic_router.utils.logger local\u001b[0m\n"
     ]
    }
   ],
   "source": [
    "from semantic_router.layer import RouteLayer\n",
    "\n",
    "rl = RouteLayer(encoder=encoder, routes=routes)"
   ]
  },
  {
   "cell_type": "code",
   "execution_count": 1,
   "metadata": {},
   "outputs": [],
   "source": [
    "utter = \"\"\"CUSTOMER: Yes, that would be helpful. I'd like to know more about the savings component of the policy. How does it work and what kind of returns can I expect?\n",
    "   AGENT: Sure, Maria. The savings component of the Set for Life policy is linked to investment funds. Here's how it works. One investment funds. A portion of your premium is invested in various funds, which you can choose based on your risk appetite. Options typically include equity funds, higher risk, higher potential returns, bond funds, lower risk, stable returns, and balanced funds.\"\"\"\n",
    "\n",
    "\n",
    "utter2 = \"\"\"CUSTOMER: Yes, that would be helpful. I'd like to know more about the savings component of the policy. How does it work and what kind of returns can I expect?\n",
    "   AGENT: Sure, Maria. \n",
    "\"\"\"\n"
   ]
  },
  {
   "cell_type": "code",
   "execution_count": 2,
   "metadata": {},
   "outputs": [
    {
     "ename": "NameError",
     "evalue": "name 'rl' is not defined",
     "output_type": "error",
     "traceback": [
      "\u001b[0;31m---------------------------------------------------------------------------\u001b[0m",
      "\u001b[0;31mNameError\u001b[0m                                 Traceback (most recent call last)",
      "Cell \u001b[0;32mIn[2], line 1\u001b[0m\n\u001b[0;32m----> 1\u001b[0m rl(utter2)\u001b[38;5;241m.\u001b[39mname\n",
      "\u001b[0;31mNameError\u001b[0m: name 'rl' is not defined"
     ]
    }
   ],
   "source": [
    "rl(utter2).name\n"
   ]
  },
  {
   "cell_type": "code",
   "execution_count": 1,
   "metadata": {},
   "outputs": [],
   "source": [
    "# Test with FineTune checkpoint serving \n"
   ]
  },
  {
   "cell_type": "code",
   "execution_count": null,
   "metadata": {},
   "outputs": [],
   "source": []
  }
 ],
 "metadata": {
  "kernelspec": {
   "display_name": "llama_finetune",
   "language": "python",
   "name": "python3"
  },
  "language_info": {
   "codemirror_mode": {
    "name": "ipython",
    "version": 3
   },
   "file_extension": ".py",
   "mimetype": "text/x-python",
   "name": "python",
   "nbconvert_exporter": "python",
   "pygments_lexer": "ipython3",
   "version": "3.11.5"
  }
 },
 "nbformat": 4,
 "nbformat_minor": 2
}
