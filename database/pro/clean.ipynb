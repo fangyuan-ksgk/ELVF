{
 "cells": [
  {
   "cell_type": "code",
   "execution_count": 31,
   "metadata": {},
   "outputs": [
    {
     "name": "stderr",
     "output_type": "stream",
     "text": [
      "Special tokens have been added in the vocabulary, make sure the associated word embeddings are fine-tuned or trained.\n"
     ]
    }
   ],
   "source": [
    "import glob\n",
    "from clean import collect_prompt_completion, mix_dataset\n",
    "from transformers import AutoTokenizer\n",
    "\n",
    "\n",
    "conv_files = glob.glob(\"./transcript/transcript_*.txt\")\n",
    "ooc_files = glob.glob(\"./transcript/ooc_transcript_*.txt\")\n",
    "\n",
    "\n",
    "tokenizer = AutoTokenizer.from_pretrained(\"meta-llama/Meta-Llama-3-8B-Instruct\")\n",
    "conv_prompts, conv_completions = collect_prompt_completion(conv_files, tokenizer)\n",
    "ooc_prompts, ooc_completions = collect_prompt_completion(ooc_files, tokenizer)\n",
    "\n",
    "dataset = mix_dataset(conv_prompts, conv_completions, ooc_prompts, ooc_completions, ooc_ratio=0.2)"
   ]
  },
  {
   "cell_type": "code",
   "execution_count": 21,
   "metadata": {},
   "outputs": [],
   "source": [
    "\n",
    "from datasets import load_dataset\n",
    "from datasets import Dataset\n",
    "# Load dataset from Hugging Face\n",
    "dataset = load_dataset(\"Ksgk-fy/genius_upload\")\n",
    "# Shuffle the dataset and SubSample 1.5K datapoints\n",
    "subset = dataset[\"train\"].shuffle(seed=42).select(range(1500))\n",
    "dataset = {\"train\": subset}"
   ]
  },
  {
   "cell_type": "code",
   "execution_count": null,
   "metadata": {},
   "outputs": [],
   "source": []
  }
 ],
 "metadata": {
  "kernelspec": {
   "display_name": "base",
   "language": "python",
   "name": "python3"
  },
  "language_info": {
   "codemirror_mode": {
    "name": "ipython",
    "version": 3
   },
   "file_extension": ".py",
   "mimetype": "text/x-python",
   "name": "python",
   "nbconvert_exporter": "python",
   "pygments_lexer": "ipython3",
   "version": "3.11.5"
  }
 },
 "nbformat": 4,
 "nbformat_minor": 2
}
