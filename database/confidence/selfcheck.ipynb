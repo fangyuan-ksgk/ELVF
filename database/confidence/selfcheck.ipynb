{
 "cells": [
  {
   "cell_type": "code",
   "execution_count": 2,
   "metadata": {},
   "outputs": [],
   "source": [
    "# Correct way of checking quality involves fine-tuning a models for it | Around 1K datapoints we have a sweet spot \n",
    "\n",
    "# Some form of self-checking mechanism is very much required here\n",
    "\n",
    "import numpy as np\n",
    "import pandas as pd\n",
    "from sklearn.datasets import make_classification\n",
    "\n",
    "# Generate a toy dataset for the confidence assignment problem\n",
    "def generate_toy_dataset(n_samples=1000, n_features=20, n_informative=10, n_classes=2, random_state=42):\n",
    "    X, y = make_classification(n_samples=n_samples, n_features=n_features, n_informative=n_informative, \n",
    "                               n_classes=n_classes, random_state=random_state)\n",
    "    df = pd.DataFrame(X, columns=[f'feature_{i}' for i in range(n_features)])\n",
    "    df['target'] = y\n",
    "    return df\n",
    "\n",
    "# Create the dataset\n",
    "toy_dataset = generate_toy_dataset()\n",
    "\n",
    "# Display the first few rows of the dataset\n",
    "toy_dataset.head()\n",
    "\n"
   ]
  },
  {
   "cell_type": "code",
   "execution_count": 5,
   "metadata": {},
   "outputs": [
    {
     "data": {
      "text/plain": [
       "[\"Maria: Yeah, that's me. Nice to finally meet you.\",\n",
       " \"Alex: I'm Alex, by the way, from the gym next door. How do you find this place for working out?\",\n",
       " 'Maria: Pretty good! I love the energy here and the coaches are helpful.',\n",
       " 'Alex: Ever notice how busy it is here? Must be a great spot to chat about insurance.',\n",
       " 'Maria: Absolutely! Can we grab a seat somewhere?',\n",
       " \"Alex: Let's sit over there, near the mirrors. Less chance of getting startled by unexpected squats!\",\n",
       " 'Maria: So Alex, what brought you to this gym?',\n",
       " 'Alex: Just wanted to get in shape, you know, feel more energized. Used to be a gamer, you can tell!',\n",
       " 'Maria: Oh, a gamer? Cool! Which games do you mostly play?',\n",
       " 'Alex: Used to play a lot of League of Legends, but now I more prefer interval workouts. How about yourself?',\n",
       " \"Maria: Actually, I'm a bit of a yoga enthusiast. Keep myself stretchy and calm!\",\n",
       " 'Alex: Yoga helps a lot with balance and focus. Must make you feel quite relaxed!',\n",
       " \"Maria: What's your favorite thing about yoga?\",\n",
       " 'Alex: Besides all the stretching, it really helps me destress. Don’t have to yell at teammates when they mess up there. What about you, any favorite poses?',\n",
       " 'Maria: Downward-facing dog is my guilty pleasure. Keeps me feeling like a canine yes!',\n",
       " \"Alex: Full disclosure, if people stare at my zombie poses after I sit, I've caught everything but!\",\n",
       " 'Maria: What do you do during your free time when not gaming?',\n",
       " 'Alex: Pretty adventurous - I love trail hikes. Closer to nature, you know?',\n",
       " 'Maria: That sounds a lot of fun! Any wild encounters while hiking?',\n",
       " 'Alex: Hoodies, strange Nocturnal companions always make for good replaces stories.',\n",
       " \"Maria: Knives and omnious howls also contribute, but that's another story!\",\n",
       " 'Alex: Certainly no shortage of material, ever. Any plans for your next adventure?',\n",
       " 'Maria: Been thinking of hitting some lesser-known trails. Almost ready to stalk the unexplored.',\n",
       " 'Alex: Stalk like the wolves, stalking just a joke, though. Still, all about caution.',\n",
       " 'Maria: Have you ever had any dodgy encounters with slimy caves?',\n",
       " \"Alex: Let's just say things got unhinged and ready-lit-went wrong.\"]"
      ]
     },
     "execution_count": 5,
     "metadata": {},
     "output_type": "execute_result"
    }
   ],
   "source": [
    "# Out-Of-Character Detection with FT 1K is less performant than OOC Detection with representation FT with 1K, this is my conclusion here\n",
    "\n",
    "# Self-Reflection should be learned along the process and not assumed | Attitude needs to be changed in-order to do that instead.\n",
    "\n",
    "file_name = \"transcript_01.txt\"\n",
    "with open(file_name, 'r') as file:\n",
    "    transcript = file.read()\n",
    "\n",
    "\n",
    "for line in transcript.split(\"\\n\"):\n",
    "    if line.startswith(\"Maria:\"):\n",
    "        utterance = line.split(\"Maria:\")[-1]\n",
    "    elif line.startswith(\"Alex:\"):\n",
    "        utterance = line.split(\"Alex:\")[-1]\n",
    "\n",
    "\n",
    "# LLM to check for issues within the context\n",
    "\n",
    "principles = [\n",
    "    \"\"\n",
    "]\n"
   ]
  },
  {
   "cell_type": "code",
   "execution_count": null,
   "metadata": {},
   "outputs": [],
   "source": []
  }
 ],
 "metadata": {
  "kernelspec": {
   "display_name": "base",
   "language": "python",
   "name": "python3"
  },
  "language_info": {
   "codemirror_mode": {
    "name": "ipython",
    "version": 3
   },
   "file_extension": ".py",
   "mimetype": "text/x-python",
   "name": "python",
   "nbconvert_exporter": "python",
   "pygments_lexer": "ipython3",
   "version": "3.11.5"
  }
 },
 "nbformat": 4,
 "nbformat_minor": 2
}
