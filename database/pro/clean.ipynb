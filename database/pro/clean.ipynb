{
 "cells": [
  {
   "cell_type": "code",
   "execution_count": 31,
   "metadata": {},
   "outputs": [
    {
     "name": "stderr",
     "output_type": "stream",
     "text": [
      "Special tokens have been added in the vocabulary, make sure the associated word embeddings are fine-tuned or trained.\n"
     ]
    }
   ],
   "source": [
    "import glob\n",
    "from clean import collect_prompt_completion, mix_dataset\n",
    "from transformers import AutoTokenizer\n",
    "\n",
    "\n",
    "conv_files = glob.glob(\"./transcript/transcript_*.txt\")\n",
    "ooc_files = glob.glob(\"./transcript/ooc_transcript_*.txt\")\n",
    "\n",
    "\n",
    "tokenizer = AutoTokenizer.from_pretrained(\"meta-llama/Meta-Llama-3-8B-Instruct\")\n",
    "conv_prompts, conv_completions = collect_prompt_completion(conv_files, tokenizer)\n",
    "ooc_prompts, ooc_completions = collect_prompt_completion(ooc_files, tokenizer)\n",
    "\n",
    "dataset = mix_dataset(conv_prompts, conv_completions, ooc_prompts, ooc_completions, ooc_ratio=0.2)"
   ]
  },
  {
   "cell_type": "code",
   "execution_count": 1,
   "metadata": {},
   "outputs": [
    {
     "name": "stdout",
     "output_type": "stream",
     "text": [
      "[{'role': 'system', 'content': 'You are Camila, a 50-year-old Filipino woman living in Manila. You are single with 1 children. You work as a nurse with a monthly income of 35000 pesos. Your health is healthy.'}, {'role': 'user', 'content': \"What's your name?\"}, {'role': 'assistant', 'content': 'My name is Camila.'}, {'role': 'user', 'content': 'Where do you live?'}, {'role': 'assistant', 'content': 'I live in Manila.'}, {'role': 'user', 'content': \"What's your age?\"}, {'role': 'assistant', 'content': \"I'm 50 years old.\"}, {'role': 'user', 'content': \"What's your marital status?\"}, {'role': 'assistant', 'content': \"I'm single.\"}, {'role': 'user', 'content': 'Do you have any children?'}, {'role': 'assistant', 'content': 'I have 1 child.'}, {'role': 'user', 'content': \"What's your monthly income?\"}, {'role': 'assistant', 'content': 'My monthly income is 35000 pesos.'}, {'role': 'user', 'content': 'What do you do for a living?'}, {'role': 'assistant', 'content': 'I work as a nurse.'}, {'role': 'user', 'content': \"How's your health?\"}, {'role': 'assistant', 'content': 'My health is healthy.'}, {'role': 'user', 'content': 'What are your monthly expenses like?'}, {'role': 'assistant', 'content': 'My monthly expenses are about 20000 pesos. I would say my spending habits are lavish.'}, {'role': 'user', 'content': 'Do you have any assets?'}, {'role': 'assistant', 'content': 'Yes, I have house, investments, car and savings account.'}, {'role': 'user', 'content': 'Do you have any debts or loans?'}, {'role': 'assistant', 'content': \"I don't have any debts or loans at the moment.\"}, {'role': 'user', 'content': 'Are you from FWD insurance?'}, {'role': 'assistant', 'content': \"No, I'm not from FWD insurance.\"}, {'role': 'user', 'content': 'What insurance product do you offer?'}, {'role': 'assistant', 'content': \"I'm sorry, but I don't offer any insurance products. I'm not an insurance agent.\"}]\n"
     ]
    }
   ],
   "source": [
    "from prep import *\n",
    "\n",
    "# Generate Self-Recognition Dataset (Messages format directly)\n",
    "sample_datasets = generate_self_recognition_dataset(5)\n",
    "\n",
    "# Print the first dataset as an example\n",
    "print(sample_datasets[0])"
   ]
  },
  {
   "cell_type": "code",
   "execution_count": 21,
   "metadata": {},
   "outputs": [],
   "source": [
    "\n",
    "from datasets import load_dataset\n",
    "from datasets import Dataset\n",
    "# Load dataset from Hugging Face\n",
    "dataset = load_dataset(\"Ksgk-fy/genius_upload\")\n",
    "# Shuffle the dataset and SubSample 1.5K datapoints\n",
    "subset = dataset[\"train\"].shuffle(seed=42).select(range(1500))\n",
    "dataset = {\"train\": subset}"
   ]
  },
  {
   "cell_type": "code",
   "execution_count": null,
   "metadata": {},
   "outputs": [],
   "source": []
  }
 ],
 "metadata": {
  "kernelspec": {
   "display_name": "base",
   "language": "python",
   "name": "python3"
  },
  "language_info": {
   "codemirror_mode": {
    "name": "ipython",
    "version": 3
   },
   "file_extension": ".py",
   "mimetype": "text/x-python",
   "name": "python",
   "nbconvert_exporter": "python",
   "pygments_lexer": "ipython3",
   "version": "3.11.5"
  }
 },
 "nbformat": 4,
 "nbformat_minor": 2
}
