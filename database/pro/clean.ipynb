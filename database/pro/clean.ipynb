{
 "cells": [
  {
   "cell_type": "code",
   "execution_count": 6,
   "metadata": {},
   "outputs": [
    {
     "name": "stderr",
     "output_type": "stream",
     "text": [
      "Special tokens have been added in the vocabulary, make sure the associated word embeddings are fine-tuned or trained.\n"
     ]
    }
   ],
   "source": [
    "import glob\n",
    "from clean import *\n",
    "from prep import *\n",
    "from transformers import AutoTokenizer\n",
    "\n",
    "conv_files = glob.glob(\"./transcript/transcript_*.txt\")\n",
    "ooc_files = glob.glob(\"./transcript/ooc_transcript_*.txt\")\n",
    "tokenizer = AutoTokenizer.from_pretrained(\"meta-llama/Meta-Llama-3-8B-Instruct\")\n",
    "ratio = [4, 0.5, 8]\n",
    "\n",
    "dataset = mix_dataset(conv_files, ratio, tokenizer)"
   ]
  },
  {
   "cell_type": "code",
   "execution_count": 12,
   "metadata": {},
   "outputs": [
    {
     "name": "stderr",
     "output_type": "stream",
     "text": [
      "Special tokens have been added in the vocabulary, make sure the associated word embeddings are fine-tuned or trained.\n"
     ]
    },
    {
     "data": {
      "text/plain": [
       "(65, 65)"
      ]
     },
     "execution_count": 12,
     "metadata": {},
     "output_type": "execute_result"
    }
   ],
   "source": [
    "from prep import *\n",
    "from clean import * \n",
    "from transformers import AutoTokenizer\n",
    "tokenizer = AutoTokenizer.from_pretrained(\"meta-llama/Meta-Llama-3-8B-Instruct\")\n",
    "\n",
    "\n",
    "# Generate Self-Recognition Dataset (Messages format directly)\n",
    "sample_datasets = generate_self_recognition_dataset(5)\n",
    "prompts, completions = process_messages_list(sample_datasets, tokenizer)\n",
    "\n",
    "len(prompts), len(completions)"
   ]
  },
  {
   "cell_type": "code",
   "execution_count": 21,
   "metadata": {},
   "outputs": [],
   "source": [
    "\n",
    "from datasets import load_dataset\n",
    "from datasets import Dataset\n",
    "# Load dataset from Hugging Face\n",
    "dataset = load_dataset(\"Ksgk-fy/genius_upload\")\n",
    "# Shuffle the dataset and SubSample 1.5K datapoints\n",
    "subset = dataset[\"train\"].shuffle(seed=42).select(range(1500))\n",
    "dataset = {\"train\": subset}"
   ]
  },
  {
   "cell_type": "code",
   "execution_count": null,
   "metadata": {},
   "outputs": [],
   "source": []
  }
 ],
 "metadata": {
  "kernelspec": {
   "display_name": "base",
   "language": "python",
   "name": "python3"
  },
  "language_info": {
   "codemirror_mode": {
    "name": "ipython",
    "version": 3
   },
   "file_extension": ".py",
   "mimetype": "text/x-python",
   "name": "python",
   "nbconvert_exporter": "python",
   "pygments_lexer": "ipython3",
   "version": "3.11.5"
  }
 },
 "nbformat": 4,
 "nbformat_minor": 2
}
